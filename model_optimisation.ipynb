{
 "cells": [
  {
   "cell_type": "markdown",
   "id": "9d36edc1",
   "metadata": {},
   "source": [
    "# Optimisation du modèle"
   ]
  },
  {
   "cell_type": "markdown",
   "id": "044a7128",
   "metadata": {},
   "source": [
    "Pour commencer, voici les performances actuelles de notre modèle, sans aucune optimisation :"
   ]
  },
  {
   "cell_type": "code",
   "execution_count": 3,
   "id": "e429c5f5",
   "metadata": {},
   "outputs": [
    {
     "name": "stdout",
     "output_type": "stream",
     "text": [
      "TRAINING MODEL...\n",
      "MODEL TRAINED IN 0.7560675144195557 s\n",
      "Accuracy: 0.7884130982367759\n"
     ]
    }
   ],
   "source": [
    "from correction_brief import train_model\n",
    "\n",
    "baseline_accuracy = train_model()[\"accuracy\"]\n",
    "print(f\"Accuracy: {baseline_accuracy}\")"
   ]
  },
  {
   "cell_type": "markdown",
   "id": "250b6820",
   "metadata": {},
   "source": [
    "## Sélection des features"
   ]
  },
  {
   "cell_type": "markdown",
   "id": "5f1b2fec",
   "metadata": {},
   "source": [
    "Afin de déterminer les features optimales à utiliser pour notre modèle, nous allons utiliser deux méthodes. Dans un premier temps, nous allons essayer des combinaisons de features aléatoires. Puis nous implémenterons un algorithme génétique pour réaliser la même tâche et comparerons les deux approches."
   ]
  },
  {
   "cell_type": "markdown",
   "id": "2981ed43",
   "metadata": {},
   "source": [
    "## Sélection aléatoire"
   ]
  },
  {
   "cell_type": "markdown",
   "id": "2d11dda0",
   "metadata": {},
   "source": [
    "Pour commencer, entraînons notre modèle 100 fois avec des features aléatoires et regardons quel est le meilleur résultat :"
   ]
  },
  {
   "cell_type": "code",
   "execution_count": 5,
   "id": "632e2b99",
   "metadata": {},
   "outputs": [
    {
     "name": "stdout",
     "output_type": "stream",
     "text": [
      "TRAINING MODEL...\n",
      "MODEL TRAINED IN 0.5645670890808105 s\n",
      "0.7329974811083123\n",
      "TRAINING MODEL...\n",
      "MODEL TRAINED IN 0.48677539825439453 s\n",
      "0.7229219143576826\n",
      "TRAINING MODEL...\n",
      "MODEL TRAINED IN 0.5950963497161865 s\n",
      "0.7027707808564232\n",
      "TRAINING MODEL...\n",
      "MODEL TRAINED IN 0.7321219444274902 s\n",
      "0.7329974811083123\n",
      "TRAINING MODEL...\n",
      "MODEL TRAINED IN 0.6031177043914795 s\n",
      "0.6952141057934509\n",
      "TRAINING MODEL...\n",
      "MODEL TRAINED IN 0.7259426116943359 s\n",
      "0.7304785894206549\n",
      "TRAINING MODEL...\n",
      "MODEL TRAINED IN 0.5862364768981934 s\n",
      "0.7153652392947103\n",
      "TRAINING MODEL...\n",
      "MODEL TRAINED IN 0.863182783126831 s\n",
      "0.7229219143576826\n",
      "TRAINING MODEL...\n",
      "MODEL TRAINED IN 0.448474645614624 s\n",
      "0.7229219143576826\n",
      "TRAINING MODEL...\n",
      "MODEL TRAINED IN 0.5894243717193604 s\n",
      "0.7204030226700252\n",
      "TRAINING MODEL...\n",
      "MODEL TRAINED IN 0.505706787109375 s\n",
      "0.7052896725440806\n",
      "TRAINING MODEL...\n",
      "MODEL TRAINED IN 0.6533465385437012 s\n",
      "0.7405541561712846\n",
      "TRAINING MODEL...\n",
      "MODEL TRAINED IN 0.5624697208404541 s\n",
      "0.7455919395465995\n",
      "TRAINING MODEL...\n",
      "MODEL TRAINED IN 0.4443821907043457 s\n",
      "0.6952141057934509\n",
      "TRAINING MODEL...\n",
      "MODEL TRAINED IN 0.5260341167449951 s\n",
      "0.7002518891687658\n",
      "TRAINING MODEL...\n",
      "MODEL TRAINED IN 0.6445019245147705 s\n",
      "0.743073047858942\n",
      "TRAINING MODEL...\n",
      "MODEL TRAINED IN 0.4585566520690918 s\n",
      "0.6801007556675063\n",
      "TRAINING MODEL...\n",
      "MODEL TRAINED IN 0.6505331993103027 s\n",
      "0.6977329974811083\n",
      "TRAINING MODEL...\n",
      "MODEL TRAINED IN 0.408719539642334 s\n",
      "0.7304785894206549\n",
      "TRAINING MODEL...\n",
      "MODEL TRAINED IN 0.4667778015136719 s\n",
      "0.7405541561712846\n",
      "TRAINING MODEL...\n",
      "MODEL TRAINED IN 0.5126545429229736 s\n",
      "0.7329974811083123\n",
      "TRAINING MODEL...\n",
      "MODEL TRAINED IN 0.561547040939331 s\n",
      "0.6700251889168766\n",
      "TRAINING MODEL...\n",
      "MODEL TRAINED IN 0.36150503158569336 s\n",
      "0.7103274559193955\n",
      "TRAINING MODEL...\n",
      "MODEL TRAINED IN 0.5855526924133301 s\n",
      "0.6851385390428212\n",
      "TRAINING MODEL...\n",
      "MODEL TRAINED IN 0.5143322944641113 s\n",
      "0.6952141057934509\n",
      "TRAINING MODEL...\n",
      "MODEL TRAINED IN 0.4923210144042969 s\n",
      "0.690176322418136\n",
      "TRAINING MODEL...\n",
      "MODEL TRAINED IN 0.5116231441497803 s\n",
      "0.7002518891687658\n",
      "TRAINING MODEL...\n",
      "MODEL TRAINED IN 0.5271482467651367 s\n",
      "0.7229219143576826\n",
      "TRAINING MODEL...\n",
      "MODEL TRAINED IN 0.8477108478546143 s\n",
      "0.7506297229219143\n",
      "TRAINING MODEL...\n",
      "MODEL TRAINED IN 0.6782112121582031 s\n",
      "0.7178841309823678\n",
      "TRAINING MODEL...\n",
      "MODEL TRAINED IN 0.4186985492706299 s\n",
      "0.6977329974811083\n",
      "TRAINING MODEL...\n",
      "MODEL TRAINED IN 0.6266956329345703 s\n",
      "0.6952141057934509\n",
      "TRAINING MODEL...\n",
      "MODEL TRAINED IN 0.48749756813049316 s\n",
      "0.7128463476070529\n",
      "TRAINING MODEL...\n",
      "MODEL TRAINED IN 0.5035974979400635 s\n",
      "0.7128463476070529\n",
      "TRAINING MODEL...\n",
      "MODEL TRAINED IN 0.5453331470489502 s\n",
      "0.6926952141057935\n",
      "TRAINING MODEL...\n",
      "MODEL TRAINED IN 0.46819400787353516 s\n",
      "0.6977329974811083\n",
      "TRAINING MODEL...\n",
      "MODEL TRAINED IN 0.7096359729766846 s\n",
      "0.7355163727959698\n",
      "TRAINING MODEL...\n",
      "MODEL TRAINED IN 0.8055434226989746 s\n",
      "0.7556675062972292\n",
      "TRAINING MODEL...\n",
      "MODEL TRAINED IN 0.37850499153137207 s\n",
      "0.654911838790932\n",
      "TRAINING MODEL...\n",
      "MODEL TRAINED IN 0.5845561027526855 s\n",
      "0.707808564231738\n",
      "TRAINING MODEL...\n",
      "MODEL TRAINED IN 0.5342576503753662 s\n",
      "0.7153652392947103\n",
      "TRAINING MODEL...\n"
     ]
    },
    {
     "ename": "KeyboardInterrupt",
     "evalue": "",
     "output_type": "error",
     "traceback": [
      "\u001b[0;31m---------------------------------------------------------------------------\u001b[0m",
      "\u001b[0;31mKeyboardInterrupt\u001b[0m                         Traceback (most recent call last)",
      "\u001b[0;32m/tmp/ipykernel_25076/2023576665.py\u001b[0m in \u001b[0;36m<module>\u001b[0;34m\u001b[0m\n\u001b[1;32m      7\u001b[0m     \u001b[0mfeatures_filter\u001b[0m \u001b[0;34m=\u001b[0m \u001b[0;34m[\u001b[0m\u001b[0;34m]\u001b[0m\u001b[0;34m\u001b[0m\u001b[0;34m\u001b[0m\u001b[0m\n\u001b[1;32m      8\u001b[0m     \u001b[0;32mfor\u001b[0m \u001b[0mi\u001b[0m \u001b[0;32min\u001b[0m \u001b[0mrange\u001b[0m\u001b[0;34m(\u001b[0m\u001b[0;36m71\u001b[0m\u001b[0;34m)\u001b[0m\u001b[0;34m:\u001b[0m \u001b[0mfeatures_filter\u001b[0m\u001b[0;34m.\u001b[0m\u001b[0mappend\u001b[0m\u001b[0;34m(\u001b[0m\u001b[0mbool\u001b[0m\u001b[0;34m(\u001b[0m\u001b[0mrandom\u001b[0m\u001b[0;34m.\u001b[0m\u001b[0mrandint\u001b[0m\u001b[0;34m(\u001b[0m\u001b[0;36m0\u001b[0m\u001b[0;34m,\u001b[0m \u001b[0;36m1\u001b[0m\u001b[0;34m)\u001b[0m\u001b[0;34m)\u001b[0m\u001b[0;34m)\u001b[0m\u001b[0;34m\u001b[0m\u001b[0;34m\u001b[0m\u001b[0m\n\u001b[0;32m----> 9\u001b[0;31m     \u001b[0mprint\u001b[0m\u001b[0;34m(\u001b[0m\u001b[0mtrain_model\u001b[0m\u001b[0;34m(\u001b[0m\u001b[0mselect_features\u001b[0m\u001b[0;34m=\u001b[0m\u001b[0;32mTrue\u001b[0m\u001b[0;34m,\u001b[0m \u001b[0mfeatures_selector\u001b[0m\u001b[0;34m=\u001b[0m\u001b[0mfeatures_filter\u001b[0m\u001b[0;34m)\u001b[0m\u001b[0;34m[\u001b[0m\u001b[0;34m\"accuracy\"\u001b[0m\u001b[0;34m]\u001b[0m\u001b[0;34m)\u001b[0m\u001b[0;34m\u001b[0m\u001b[0;34m\u001b[0m\u001b[0m\n\u001b[0m\u001b[1;32m     10\u001b[0m \u001b[0;34m\u001b[0m\u001b[0m\n",
      "\u001b[0;32m~/Développement/Simplon/peter_le_score/correction_brief.py\u001b[0m in \u001b[0;36mtrain_model\u001b[0;34m(select_features, features_selector)\u001b[0m\n\u001b[1;32m    149\u001b[0m     \u001b[0mlearningFeatures_scaled\u001b[0m \u001b[0;34m=\u001b[0m \u001b[0mscaler\u001b[0m\u001b[0;34m.\u001b[0m\u001b[0mtransform\u001b[0m\u001b[0;34m(\u001b[0m\u001b[0mX_train\u001b[0m\u001b[0;34m)\u001b[0m\u001b[0;34m\u001b[0m\u001b[0;34m\u001b[0m\u001b[0m\n\u001b[1;32m    150\u001b[0m \u001b[0;34m\u001b[0m\u001b[0m\n\u001b[0;32m--> 151\u001b[0;31m     \u001b[0mmodel\u001b[0m\u001b[0;34m.\u001b[0m\u001b[0mfit\u001b[0m\u001b[0;34m(\u001b[0m\u001b[0mlearningFeatures_scaled\u001b[0m\u001b[0;34m,\u001b[0m \u001b[0mlearningLabelsStd\u001b[0m\u001b[0;34m)\u001b[0m\u001b[0;34m\u001b[0m\u001b[0;34m\u001b[0m\u001b[0m\n\u001b[0m\u001b[1;32m    152\u001b[0m \u001b[0;34m\u001b[0m\u001b[0m\n\u001b[1;32m    153\u001b[0m     \u001b[0mt4\u001b[0m \u001b[0;34m=\u001b[0m \u001b[0mtime\u001b[0m\u001b[0;34m.\u001b[0m\u001b[0mtime\u001b[0m\u001b[0;34m(\u001b[0m\u001b[0;34m)\u001b[0m\u001b[0;34m\u001b[0m\u001b[0;34m\u001b[0m\u001b[0m\n",
      "\u001b[0;32m~/.local/lib/python3.10/site-packages/sklearn/svm/_base.py\u001b[0m in \u001b[0;36mfit\u001b[0;34m(self, X, y, sample_weight)\u001b[0m\n\u001b[1;32m    249\u001b[0m \u001b[0;34m\u001b[0m\u001b[0m\n\u001b[1;32m    250\u001b[0m         \u001b[0mseed\u001b[0m \u001b[0;34m=\u001b[0m \u001b[0mrnd\u001b[0m\u001b[0;34m.\u001b[0m\u001b[0mrandint\u001b[0m\u001b[0;34m(\u001b[0m\u001b[0mnp\u001b[0m\u001b[0;34m.\u001b[0m\u001b[0miinfo\u001b[0m\u001b[0;34m(\u001b[0m\u001b[0;34m\"i\"\u001b[0m\u001b[0;34m)\u001b[0m\u001b[0;34m.\u001b[0m\u001b[0mmax\u001b[0m\u001b[0;34m)\u001b[0m\u001b[0;34m\u001b[0m\u001b[0;34m\u001b[0m\u001b[0m\n\u001b[0;32m--> 251\u001b[0;31m         \u001b[0mfit\u001b[0m\u001b[0;34m(\u001b[0m\u001b[0mX\u001b[0m\u001b[0;34m,\u001b[0m \u001b[0my\u001b[0m\u001b[0;34m,\u001b[0m \u001b[0msample_weight\u001b[0m\u001b[0;34m,\u001b[0m \u001b[0msolver_type\u001b[0m\u001b[0;34m,\u001b[0m \u001b[0mkernel\u001b[0m\u001b[0;34m,\u001b[0m \u001b[0mrandom_seed\u001b[0m\u001b[0;34m=\u001b[0m\u001b[0mseed\u001b[0m\u001b[0;34m)\u001b[0m\u001b[0;34m\u001b[0m\u001b[0;34m\u001b[0m\u001b[0m\n\u001b[0m\u001b[1;32m    252\u001b[0m         \u001b[0;31m# see comment on the other call to np.iinfo in this file\u001b[0m\u001b[0;34m\u001b[0m\u001b[0;34m\u001b[0m\u001b[0m\n\u001b[1;32m    253\u001b[0m \u001b[0;34m\u001b[0m\u001b[0m\n",
      "\u001b[0;32m~/.local/lib/python3.10/site-packages/sklearn/svm/_base.py\u001b[0m in \u001b[0;36m_dense_fit\u001b[0;34m(self, X, y, sample_weight, solver_type, kernel, random_seed)\u001b[0m\n\u001b[1;32m    331\u001b[0m             \u001b[0mself\u001b[0m\u001b[0;34m.\u001b[0m\u001b[0mfit_status_\u001b[0m\u001b[0;34m,\u001b[0m\u001b[0;34m\u001b[0m\u001b[0;34m\u001b[0m\u001b[0m\n\u001b[1;32m    332\u001b[0m             \u001b[0mself\u001b[0m\u001b[0;34m.\u001b[0m\u001b[0m_num_iter\u001b[0m\u001b[0;34m,\u001b[0m\u001b[0;34m\u001b[0m\u001b[0;34m\u001b[0m\u001b[0m\n\u001b[0;32m--> 333\u001b[0;31m         \u001b[0;34m)\u001b[0m \u001b[0;34m=\u001b[0m \u001b[0mlibsvm\u001b[0m\u001b[0;34m.\u001b[0m\u001b[0mfit\u001b[0m\u001b[0;34m(\u001b[0m\u001b[0;34m\u001b[0m\u001b[0;34m\u001b[0m\u001b[0m\n\u001b[0m\u001b[1;32m    334\u001b[0m             \u001b[0mX\u001b[0m\u001b[0;34m,\u001b[0m\u001b[0;34m\u001b[0m\u001b[0;34m\u001b[0m\u001b[0m\n\u001b[1;32m    335\u001b[0m             \u001b[0my\u001b[0m\u001b[0;34m,\u001b[0m\u001b[0;34m\u001b[0m\u001b[0;34m\u001b[0m\u001b[0m\n",
      "\u001b[0;31mKeyboardInterrupt\u001b[0m: "
     ]
    }
   ],
   "source": [
    "import random\n",
    "\n",
    "combination_counts = 100\n",
    "\n",
    "\n",
    "for f in range(combination_counts):\n",
    "    features_filter = []\n",
    "    for i in range(71): features_filter.append(bool(random.randint(0, 1)))\n",
    "    print(train_model(select_features=True, features_selector=features_filter)[\"accuracy\"])\n",
    "\n"
   ]
  },
  {
   "cell_type": "code",
   "execution_count": null,
   "id": "a41c4128",
   "metadata": {},
   "outputs": [],
   "source": []
  },
  {
   "cell_type": "code",
   "execution_count": null,
   "id": "1aeacde4",
   "metadata": {},
   "outputs": [],
   "source": []
  }
 ],
 "metadata": {
  "kernelspec": {
   "display_name": "Python 3 (ipykernel)",
   "language": "python",
   "name": "python3"
  },
  "language_info": {
   "codemirror_mode": {
    "name": "ipython",
    "version": 3
   },
   "file_extension": ".py",
   "mimetype": "text/x-python",
   "name": "python",
   "nbconvert_exporter": "python",
   "pygments_lexer": "ipython3",
   "version": "3.10.6"
  }
 },
 "nbformat": 4,
 "nbformat_minor": 5
}
