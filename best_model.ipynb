{
 "cells": [
  {
   "cell_type": "code",
   "execution_count": 10,
   "id": "00cf7161",
   "metadata": {},
   "outputs": [],
   "source": [
    "# Modèle, paramètres et features optimaux\n",
    "best_features = [True, True, True, False, False, True, False, False, False, False, False, \n",
    "                 True, False, True, True, False, True, True, True, False, True, True, False, \n",
    "                 True, True, False, True, False, True, True, True, True, False, True, True, \n",
    "                 True, False, True, True, False, True, False, True, True, True, True, True, \n",
    "                 True, True, True, False, True, False, True, False, False, True, False, \n",
    "                 False, False, False, False, False, True, True, True, False, True, True, True, True]\n",
    "best_model = \"svm\"\n",
    "best_parameters = {'C': 38.238318053322125, 'kernel': 'rbf', 'class_weight': 'balanced'}\n",
    "best_accuracy_overall = 0.9093198992443325 # Précision ATTENDUE, déjà mesurée avec ces paramètres"
   ]
  },
  {
   "cell_type": "markdown",
   "id": "9fd898e7",
   "metadata": {},
   "source": [
    "Ce code entraîne un modèle selon les paramètres définis ci-dessus. La fonction train_model renvoit un dicitonnaire qui contient (notamment) le modèle entraîné."
   ]
  },
  {
   "cell_type": "code",
   "execution_count": 11,
   "id": "21fe95af",
   "metadata": {},
   "outputs": [
    {
     "name": "stdout",
     "output_type": "stream",
     "text": [
      "model_name: SVM\n",
      "params: {'C': 38.238318053322125, 'kernel': 'rbf', 'class_weight': 'balanced'}\n",
      "model: SVC(C=38.238318053322125, class_weight='balanced')\n",
      "accuracy: 0.9269521410579346\n",
      "features_used: [True, True, True, False, False, True, False, False, False, False, False, True, False, True, True, False, True, True, True, False, True, True, False, True, True, False, True, False, True, True, True, True, False, True, True, True, False, True, True, False, True, False, True, True, True, True, True, True, True, True, False, True, False, True, False, False, True, False, False, False, False, False, False, True, True, True, False, True, True, True, True]\n"
     ]
    }
   ],
   "source": [
    "from correction_brief import train_model\n",
    "\n",
    "# Entraînement du modèle : \n",
    "resultat = train_model(select_features=True, \n",
    "                        features_selector=best_features, \n",
    "                        model_name=best_model,\n",
    "                        params=best_parameters,\n",
    "                        verbose=False)\n",
    "\n",
    "\n",
    "model = resultat[\"model\"]\n",
    "for i in resultat:\n",
    "    print(f\"{i}: {resultat[i]}\")\n"
   ]
  },
  {
   "cell_type": "code",
   "execution_count": null,
   "id": "276fe592",
   "metadata": {},
   "outputs": [],
   "source": []
  }
 ],
 "metadata": {
  "kernelspec": {
   "display_name": "Python 3 (ipykernel)",
   "language": "python",
   "name": "python3"
  },
  "language_info": {
   "codemirror_mode": {
    "name": "ipython",
    "version": 3
   },
   "file_extension": ".py",
   "mimetype": "text/x-python",
   "name": "python",
   "nbconvert_exporter": "python",
   "pygments_lexer": "ipython3",
   "version": "3.10.6"
  }
 },
 "nbformat": 4,
 "nbformat_minor": 5
}
